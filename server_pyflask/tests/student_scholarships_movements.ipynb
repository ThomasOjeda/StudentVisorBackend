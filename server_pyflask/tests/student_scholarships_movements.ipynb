{
 "cells": [
  {
   "cell_type": "code",
   "execution_count": 1,
   "metadata": {},
   "outputs": [
    {
     "name": "stdout",
     "output_type": "stream",
     "text": [
      "/home/thomas/Documents/Tesis/StudentVisorBackend/server_pyflask\n"
     ]
    }
   ],
   "source": [
    "%cd .."
   ]
  },
  {
   "cell_type": "code",
   "execution_count": 2,
   "metadata": {},
   "outputs": [],
   "source": [
    "import pandas as pd\n",
    "from src.transformations.common_operations import filterDataFrame\n",
    "from src.utils.enums import ColName\n",
    "from src.transformations.common_operations import readFile"
   ]
  },
  {
   "cell_type": "code",
   "execution_count": 31,
   "metadata": {},
   "outputs": [],
   "source": [
    "filters1 = {}\n",
    "filters1[ColName.INSC_TYPE.value] = \"i\"\n",
    "filters2 = {}\n",
    "filters2[ColName.INSC_TYPE.value] = \"i\"\n",
    "\n",
    "schFilters = {}\n",
    "\n",
    "table1 = readFile(\"../studentsdata/students_inscriptions/2021_student-inscriptions_1d6c7dee-e94f-44eb-b4a7-49ac3b738b95.pickle\")\n",
    "table2 = readFile(\"../studentsdata/students_inscriptions/2023_student-inscriptions_5bb4a8a7-4cec-48f2-94df-00c3c1db17a5.pickle\")\n",
    "\n",
    "scholarships = readFile(\"../studentsdata/students_scholarships/2023_student-scholarships-belgrano_e14a08dc-7b43-4feb-be17-26fc9376fa3a.pickle\")"
   ]
  },
  {
   "cell_type": "code",
   "execution_count": 32,
   "metadata": {},
   "outputs": [],
   "source": [
    "table1[ColName.ID.value] = table1[ColName.ID.value].astype(str)\n",
    "table2[ColName.ID.value] = table2[ColName.ID.value].astype(str)\n",
    "\n",
    "table1[ColName.OFFER.value] = table1[ColName.OFFER.value].astype(str)\n",
    "table2[ColName.OFFER.value] = table2[ColName.OFFER.value].astype(str)\n",
    "\n",
    "table1[ColName.UNIT.value] = table1[ColName.UNIT.value].astype(str)\n",
    "table2[ColName.UNIT.value] = table2[ColName.UNIT.value].astype(str)\n",
    "\n",
    "table1[ColName.INSC_TYPE.value] = table1[ColName.INSC_TYPE.value].astype(str)\n",
    "table2[ColName.INSC_TYPE.value] = table2[ColName.INSC_TYPE.value].astype(str)\n",
    "\n",
    "scholarships[ColName.OFFER.value] = scholarships[ColName.OFFER.value].astype(str)\n",
    "scholarships[ColName.UNIT.value] = scholarships[ColName.UNIT.value].astype(str)\n",
    "scholarships[ColName.ID.value] = scholarships[ColName.ID.value].astype(str)"
   ]
  },
  {
   "cell_type": "code",
   "execution_count": 33,
   "metadata": {},
   "outputs": [
    {
     "name": "stdout",
     "output_type": "stream",
     "text": [
      "unit       object\n",
      "offer      object\n",
      "insc       object\n",
      "sex      category\n",
      "id         object\n",
      "dtype: object\n",
      "unit       object\n",
      "offer      object\n",
      "insc       object\n",
      "sex      category\n",
      "id         object\n",
      "dtype: object\n",
      "unit     object\n",
      "offer    object\n",
      "id       object\n",
      "dtype: object\n"
     ]
    }
   ],
   "source": [
    "print(table1.dtypes)\n",
    "print(table2.dtypes)\n",
    "print(scholarships.dtypes)"
   ]
  },
  {
   "cell_type": "code",
   "execution_count": 34,
   "metadata": {},
   "outputs": [],
   "source": [
    "table1 = table1[table1['insc']==\"i\"]\n",
    "table2 = table2[table2['insc']==\"i\"]"
   ]
  },
  {
   "cell_type": "code",
   "execution_count": 23,
   "metadata": {},
   "outputs": [],
   "source": [
    "table1 = filterDataFrame(table1, filters1)\n",
    "table2 = filterDataFrame(table2, filters2)\n",
    "scholarships = filterDataFrame(scholarships, schFilters)"
   ]
  },
  {
   "cell_type": "code",
   "execution_count": 35,
   "metadata": {},
   "outputs": [
    {
     "name": "stdout",
     "output_type": "stream",
     "text": [
      "unit       object\n",
      "offer      object\n",
      "insc       object\n",
      "sex      category\n",
      "id         object\n",
      "dtype: object\n",
      "unit       object\n",
      "offer      object\n",
      "insc       object\n",
      "sex      category\n",
      "id         object\n",
      "dtype: object\n",
      "unit     object\n",
      "offer    object\n",
      "id       object\n",
      "dtype: object\n"
     ]
    }
   ],
   "source": [
    "print(table1.dtypes)\n",
    "print(table2.dtypes)\n",
    "print(scholarships.dtypes)"
   ]
  },
  {
   "cell_type": "code",
   "execution_count": null,
   "metadata": {},
   "outputs": [],
   "source": []
  },
  {
   "cell_type": "code",
   "execution_count": 17,
   "metadata": {},
   "outputs": [],
   "source": [
    "activity = table1.merge(table2,on=ColName.ID.value,how='inner')"
   ]
  },
  {
   "cell_type": "code",
   "execution_count": 16,
   "metadata": {},
   "outputs": [],
   "source": [
    "activity: pd.DataFrame = table1.merge(table2, on=[ColName.ID.value], how=\"inner\")"
   ]
  },
  {
   "cell_type": "code",
   "execution_count": 19,
   "metadata": {},
   "outputs": [],
   "source": [
    "# Conversion from categorical to string to allow comparison between series\n",
    "activity[ColName.OFFER.value + \"_x\"] = activity[\n",
    "    ColName.OFFER.value + \"_x\"\n",
    "].astype(str)\n",
    "\n",
    "activity[ColName.OFFER.value + \"_y\"] = activity[\n",
    "    ColName.OFFER.value + \"_y\"\n",
    "].astype(str)"
   ]
  },
  {
   "cell_type": "code",
   "execution_count": 20,
   "metadata": {},
   "outputs": [],
   "source": [
    "aux11 = activity[ColName.OFFER.value + \"_x\"] != activity[ColName.OFFER.value + \"_y\"]"
   ]
  },
  {
   "cell_type": "code",
   "execution_count": 21,
   "metadata": {},
   "outputs": [],
   "source": [
    "differentActivity = activity[activity[ColName.OFFER.value + \"_x\"] != activity[ColName.OFFER.value + \"_y\"]]"
   ]
  },
  {
   "cell_type": "code",
   "execution_count": 25,
   "metadata": {},
   "outputs": [
    {
     "data": {
      "text/plain": [
       "{'41071983', '43909013'}"
      ]
     },
     "execution_count": 25,
     "metadata": {},
     "output_type": "execute_result"
    }
   ],
   "source": [
    "\n",
    "set(differentActivity['id']).intersection(set(scholarships['id']))\n",
    "\n"
   ]
  },
  {
   "cell_type": "code",
   "execution_count": 22,
   "metadata": {},
   "outputs": [],
   "source": [
    "differentActivityWithScholarships = differentActivity.merge(scholarships,on=ColName.ID.value,how=\"inner\",)"
   ]
  },
  {
   "cell_type": "code",
   "execution_count": 13,
   "metadata": {},
   "outputs": [],
   "source": [
    "\n",
    "differentActivityWithScholarships = differentActivityWithScholarships[\n",
    "    differentActivityWithScholarships[ColName.OFFER.value + \"_y\"]\n",
    "    == differentActivityWithScholarships[ColName.OFFER.value]\n",
    "]"
   ]
  },
  {
   "cell_type": "code",
   "execution_count": 14,
   "metadata": {},
   "outputs": [],
   "source": [
    "differentActivityWithScholarships = (\n",
    "    differentActivityWithScholarships.drop_duplicates(subset=[ColName.ID.value])\n",
    "    .groupby(ColName.OFFER.value, observed=True)[\n",
    "        ColName.OFFER.value\n",
    "    ]  # observed only applies if grouping by categorical columns,but set it still.\n",
    "    .count()\n",
    ")"
   ]
  },
  {
   "cell_type": "code",
   "execution_count": 15,
   "metadata": {},
   "outputs": [
    {
     "data": {
      "text/plain": [
       "offer\n",
       "tecnicatura universitaria en desarrollo de aplicaciones informaticas    1\n",
       "Name: offer, dtype: int64"
      ]
     },
     "execution_count": 15,
     "metadata": {},
     "output_type": "execute_result"
    }
   ],
   "source": [
    "differentActivityWithScholarships"
   ]
  }
 ],
 "metadata": {
  "kernelspec": {
   "display_name": "pyflaskvirtualenv",
   "language": "python",
   "name": "python3"
  },
  "language_info": {
   "codemirror_mode": {
    "name": "ipython",
    "version": 3
   },
   "file_extension": ".py",
   "mimetype": "text/x-python",
   "name": "python",
   "nbconvert_exporter": "python",
   "pygments_lexer": "ipython3",
   "version": "3.10.12"
  }
 },
 "nbformat": 4,
 "nbformat_minor": 2
}
