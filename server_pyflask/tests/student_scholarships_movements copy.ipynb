{
 "cells": [
  {
   "cell_type": "code",
   "execution_count": 1,
   "metadata": {},
   "outputs": [
    {
     "name": "stdout",
     "output_type": "stream",
     "text": [
      "/home/thomas/Documents/Tesis/StudentVisorBackend/server_pyflask\n"
     ]
    }
   ],
   "source": [
    "%cd .."
   ]
  },
  {
   "cell_type": "code",
   "execution_count": 2,
   "metadata": {},
   "outputs": [],
   "source": [
    "import pandas as pd\n",
    "from src.transformations.common_operations import filterDataFrame\n",
    "from src.utils.enums import ColName\n",
    "from src.transformations.common_operations import readFile"
   ]
  },
  {
   "cell_type": "code",
   "execution_count": null,
   "metadata": {},
   "outputs": [],
   "source": []
  },
  {
   "cell_type": "code",
   "execution_count": 3,
   "metadata": {},
   "outputs": [],
   "source": [
    "filters1 = {}\n",
    "filters1[ColName.INSC_TYPE.value] = \"i\"\n",
    "filters2 = {}\n",
    "filters2[ColName.INSC_TYPE.value] = \"i\"\n",
    "\n",
    "schFilters = {}\n",
    "\n",
    "table1 = readFile(\"../studentsdata/students_inscriptions/2021_student-inscriptions_49b34551-9535-4857-89fa-114bf66a473b.pickle\")\n",
    "table2 = readFile(\"../studentsdata/students_inscriptions/2023_student-inscriptions_1dead12b-ab83-4fd6-b5f0-e554e578ff85.pickle\")\n",
    "\n",
    "scholarships = readFile(\"../studentsdata/students_scholarships/2023_student-scholarships-progresar_2454873a-fbf8-4665-b3bf-ba19c850bde2.pickle\")"
   ]
  },
  {
   "cell_type": "code",
   "execution_count": null,
   "metadata": {},
   "outputs": [],
   "source": []
  },
  {
   "cell_type": "code",
   "execution_count": 4,
   "metadata": {},
   "outputs": [
    {
     "data": {
      "text/plain": [
       "{'31956046',\n",
       " '35334402',\n",
       " '36293911',\n",
       " '37241376',\n",
       " '38244327',\n",
       " '38286545',\n",
       " '38297465',\n",
       " '38529139',\n",
       " '38935610',\n",
       " '39341643',\n",
       " '39801738',\n",
       " '39922018',\n",
       " '40223409',\n",
       " '40580598',\n",
       " '41097623',\n",
       " '41102953',\n",
       " '41146572',\n",
       " '41146596',\n",
       " '41324859',\n",
       " '41424014',\n",
       " '41569243',\n",
       " '41724338',\n",
       " '41740389',\n",
       " '41755768',\n",
       " '41916566',\n",
       " '41926287',\n",
       " '41929459',\n",
       " '42042302',\n",
       " '42054476',\n",
       " '42135390',\n",
       " '42294848',\n",
       " '42296341',\n",
       " '42344893',\n",
       " '42351913',\n",
       " '42360821',\n",
       " '42391683',\n",
       " '42398620',\n",
       " '42541241',\n",
       " '42573220',\n",
       " '42785912',\n",
       " '42817933',\n",
       " '42842539',\n",
       " '42883123',\n",
       " '42883726',\n",
       " '42900870',\n",
       " '42945132',\n",
       " '43018294',\n",
       " '43186910',\n",
       " '43464273',\n",
       " '43472156',\n",
       " '43511737',\n",
       " '43512826',\n",
       " '43597459',\n",
       " '43658946',\n",
       " '43798865',\n",
       " '43864014',\n",
       " '43864392',\n",
       " '43871346',\n",
       " '43909648',\n",
       " '43969955',\n",
       " '43972537',\n",
       " '44046627',\n",
       " '44046812',\n",
       " '44050813',\n",
       " '44165898',\n",
       " '44165968',\n",
       " '44166973',\n",
       " '44168090',\n",
       " '44243430',\n",
       " '44339690',\n",
       " '44377858',\n",
       " '44418185',\n",
       " '44454306',\n",
       " '44543080',\n",
       " '44831061',\n",
       " '44840851',\n",
       " '44927934',\n",
       " '44928007',\n",
       " '44928146',\n",
       " '44928279',\n",
       " '44928291',\n",
       " '44928387',\n",
       " '44933107',\n",
       " '44962145',\n",
       " '45035251',\n",
       " '45036713',\n",
       " '45037136',\n",
       " '45037296',\n",
       " '45176716',\n",
       " '45189972',\n",
       " '45190906',\n",
       " '45224241',\n",
       " '45295419',\n",
       " '45299800',\n",
       " '45325044',\n",
       " '45398233',\n",
       " '45399781',\n",
       " '45459778',\n",
       " '45460282',\n",
       " '45468062',\n",
       " '45521389',\n",
       " '45521771',\n",
       " '45521781',\n",
       " '45521855',\n",
       " '45543367',\n",
       " '45569246',\n",
       " '45577979',\n",
       " '45579855',\n",
       " '45607088',\n",
       " '45607664',\n",
       " '45620636',\n",
       " '45624340',\n",
       " '45740611',\n",
       " '45751249',\n",
       " '45782315',\n",
       " '45782380',\n",
       " '45782457',\n",
       " '45892661',\n",
       " '45901019',\n",
       " '45914930',\n",
       " '45998508',\n",
       " '46009753',\n",
       " '46009785',\n",
       " '46009794',\n",
       " '46009881',\n",
       " '46092858',\n",
       " '46092886',\n",
       " '46094715',\n",
       " '46103067',\n",
       " '46185712',\n",
       " '46185819',\n",
       " '46186864',\n",
       " '46188611',\n",
       " '46188689',\n",
       " '46188740',\n",
       " '46206121',\n",
       " '46282834',\n",
       " '46282840',\n",
       " '46282866',\n",
       " '46282918',\n",
       " '46282937',\n",
       " '46282950',\n",
       " '46283243',\n",
       " '46339226',\n",
       " '46344033',\n",
       " '46344119',\n",
       " '46344131',\n",
       " '46348805',\n",
       " '46353641',\n",
       " '46361124',\n",
       " '46555068',\n",
       " '46560093',\n",
       " '94911159',\n",
       " '95206378'}"
      ]
     },
     "execution_count": 4,
     "metadata": {},
     "output_type": "execute_result"
    }
   ],
   "source": [
    "set(scholarships['id'].unique()).difference(set(table2['id'].unique()))"
   ]
  },
  {
   "cell_type": "code",
   "execution_count": 4,
   "metadata": {},
   "outputs": [],
   "source": [
    "table1[ColName.ID.value] = table1[ColName.ID.value].astype(str)\n",
    "table2[ColName.ID.value] = table2[ColName.ID.value].astype(str)\n",
    "\n",
    "table1[ColName.OFFER.value] = table1[ColName.OFFER.value].astype(str)\n",
    "table2[ColName.OFFER.value] = table2[ColName.OFFER.value].astype(str)\n",
    "\n",
    "table1[ColName.UNIT.value] = table1[ColName.UNIT.value].astype(str)\n",
    "table2[ColName.UNIT.value] = table2[ColName.UNIT.value].astype(str)\n",
    "\n",
    "table1[ColName.INSC_TYPE.value] = table1[ColName.INSC_TYPE.value].astype(str)\n",
    "table2[ColName.INSC_TYPE.value] = table2[ColName.INSC_TYPE.value].astype(str)\n",
    "\n",
    "scholarships[ColName.OFFER.value] = scholarships[ColName.OFFER.value].astype(str)\n",
    "scholarships[ColName.UNIT.value] = scholarships[ColName.UNIT.value].astype(str)\n",
    "scholarships[ColName.ID.value] = scholarships[ColName.ID.value].astype(str)"
   ]
  },
  {
   "cell_type": "code",
   "execution_count": 5,
   "metadata": {},
   "outputs": [
    {
     "name": "stdout",
     "output_type": "stream",
     "text": [
      "unit       object\n",
      "offer      object\n",
      "insc       object\n",
      "sex      category\n",
      "id         object\n",
      "dtype: object\n",
      "unit       object\n",
      "offer      object\n",
      "insc       object\n",
      "sex      category\n",
      "id         object\n",
      "dtype: object\n",
      "unit     object\n",
      "offer    object\n",
      "id       object\n",
      "dtype: object\n"
     ]
    }
   ],
   "source": [
    "print(table1.dtypes)\n",
    "print(table2.dtypes)\n",
    "print(scholarships.dtypes)"
   ]
  },
  {
   "cell_type": "code",
   "execution_count": 6,
   "metadata": {},
   "outputs": [],
   "source": [
    "table1 = table1[table1['insc']==\"i\"]\n",
    "table2 = table2[table2['insc']==\"i\"]"
   ]
  },
  {
   "cell_type": "code",
   "execution_count": 23,
   "metadata": {},
   "outputs": [],
   "source": [
    "table1 = filterDataFrame(table1, filters1)\n",
    "table2 = filterDataFrame(table2, filters2)\n",
    "scholarships = filterDataFrame(scholarships, schFilters)"
   ]
  },
  {
   "cell_type": "code",
   "execution_count": 7,
   "metadata": {},
   "outputs": [
    {
     "name": "stdout",
     "output_type": "stream",
     "text": [
      "unit       object\n",
      "offer      object\n",
      "insc       object\n",
      "sex      category\n",
      "id         object\n",
      "dtype: object\n",
      "unit       object\n",
      "offer      object\n",
      "insc       object\n",
      "sex      category\n",
      "id         object\n",
      "dtype: object\n",
      "unit     object\n",
      "offer    object\n",
      "id       object\n",
      "dtype: object\n"
     ]
    }
   ],
   "source": [
    "print(table1.dtypes)\n",
    "print(table2.dtypes)\n",
    "print(scholarships.dtypes)"
   ]
  },
  {
   "cell_type": "code",
   "execution_count": null,
   "metadata": {},
   "outputs": [],
   "source": []
  },
  {
   "cell_type": "code",
   "execution_count": 8,
   "metadata": {},
   "outputs": [],
   "source": [
    "activity = table1.merge(table2,on=ColName.ID.value,how='inner')"
   ]
  },
  {
   "cell_type": "code",
   "execution_count": 16,
   "metadata": {},
   "outputs": [],
   "source": [
    "activity: pd.DataFrame = table1.merge(table2, on=[ColName.ID.value], how=\"inner\")"
   ]
  },
  {
   "cell_type": "code",
   "execution_count": 19,
   "metadata": {},
   "outputs": [],
   "source": [
    "# Conversion from categorical to string to allow comparison between series\n",
    "activity[ColName.OFFER.value + \"_x\"] = activity[\n",
    "    ColName.OFFER.value + \"_x\"\n",
    "].astype(str)\n",
    "\n",
    "activity[ColName.OFFER.value + \"_y\"] = activity[\n",
    "    ColName.OFFER.value + \"_y\"\n",
    "].astype(str)"
   ]
  },
  {
   "cell_type": "code",
   "execution_count": 20,
   "metadata": {},
   "outputs": [],
   "source": [
    "aux11 = activity[ColName.OFFER.value + \"_x\"] != activity[ColName.OFFER.value + \"_y\"]"
   ]
  },
  {
   "cell_type": "code",
   "execution_count": 9,
   "metadata": {},
   "outputs": [],
   "source": [
    "differentActivity = activity[activity[ColName.OFFER.value + \"_x\"] != activity[ColName.OFFER.value + \"_y\"]]"
   ]
  },
  {
   "cell_type": "code",
   "execution_count": 10,
   "metadata": {},
   "outputs": [
    {
     "data": {
      "text/plain": [
       "{'41010079',\n",
       " '41676008',\n",
       " '42345517',\n",
       " '42618988',\n",
       " '42841767',\n",
       " '43254955',\n",
       " '43393897',\n",
       " '43658944',\n",
       " '43909013',\n",
       " '44241921',\n",
       " '44417141',\n",
       " '44453179',\n",
       " '44461210',\n",
       " '44461365',\n",
       " '44520175',\n",
       " '44592557',\n",
       " '44692959',\n",
       " '44693135',\n",
       " '44824431',\n",
       " '44835051',\n",
       " '44838927',\n",
       " '44839209',\n",
       " '44928137',\n",
       " '44928618',\n",
       " '45035501'}"
      ]
     },
     "execution_count": 10,
     "metadata": {},
     "output_type": "execute_result"
    }
   ],
   "source": [
    "\n",
    "set(differentActivity['id']).intersection(set(scholarships['id']))\n",
    "\n"
   ]
  },
  {
   "cell_type": "code",
   "execution_count": 11,
   "metadata": {},
   "outputs": [],
   "source": [
    "differentActivityWithScholarships = differentActivity.merge(scholarships,on=ColName.ID.value,how=\"inner\",)"
   ]
  },
  {
   "cell_type": "code",
   "execution_count": 12,
   "metadata": {},
   "outputs": [],
   "source": [
    "\n",
    "differentActivityWithScholarships = differentActivityWithScholarships[\n",
    "    differentActivityWithScholarships[ColName.OFFER.value + \"_y\"]\n",
    "    == differentActivityWithScholarships[ColName.OFFER.value]\n",
    "]"
   ]
  },
  {
   "cell_type": "code",
   "execution_count": 13,
   "metadata": {},
   "outputs": [],
   "source": [
    "differentActivityWithScholarships = (\n",
    "    differentActivityWithScholarships.drop_duplicates(subset=[ColName.ID.value])\n",
    "    .groupby(ColName.OFFER.value, observed=True)[\n",
    "        ColName.OFFER.value\n",
    "    ]  # observed only applies if grouping by categorical columns,but set it still.\n",
    "    .count()\n",
    ")"
   ]
  },
  {
   "cell_type": "code",
   "execution_count": 14,
   "metadata": {},
   "outputs": [
    {
     "data": {
      "text/plain": [
       "offer\n",
       "abogacia                                                                1\n",
       "licenciatura en administracion                                          1\n",
       "licenciatura en diagnostico y gestion ambiental                         1\n",
       "licenciatura en economia empresarial                                    1\n",
       "licenciatura en gestion tecnologica                                     1\n",
       "licenciatura en historia                                                2\n",
       "licenciatura en relaciones internacionales                              1\n",
       "licenciatura en tecnologia de los alimentos                             1\n",
       "licenciatura en trabajo social                                          1\n",
       "periodismo                                                              1\n",
       "profesor de teatro                                                      1\n",
       "realizacion integral en artes audiovisuales                             1\n",
       "tecnicatura universitaria en desarrollo de aplicaciones informaticas    4\n",
       "Name: offer, dtype: int64"
      ]
     },
     "execution_count": 14,
     "metadata": {},
     "output_type": "execute_result"
    }
   ],
   "source": [
    "differentActivityWithScholarships"
   ]
  }
 ],
 "metadata": {
  "kernelspec": {
   "display_name": "pyflaskvirtualenv",
   "language": "python",
   "name": "python3"
  },
  "language_info": {
   "codemirror_mode": {
    "name": "ipython",
    "version": 3
   },
   "file_extension": ".py",
   "mimetype": "text/x-python",
   "name": "python",
   "nbconvert_exporter": "python",
   "pygments_lexer": "ipython3",
   "version": "3.10.12"
  }
 },
 "nbformat": 4,
 "nbformat_minor": 2
}
