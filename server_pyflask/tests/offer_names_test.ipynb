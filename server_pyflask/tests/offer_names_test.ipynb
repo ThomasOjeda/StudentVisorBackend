{
 "cells": [
  {
   "cell_type": "code",
   "execution_count": 27,
   "metadata": {},
   "outputs": [
    {
     "name": "stdout",
     "output_type": "stream",
     "text": [
      "/home/thomas/Documents/Tesis/StudentVisorBackend/server_pyflask/tests\n"
     ]
    },
    {
     "name": "stderr",
     "output_type": "stream",
     "text": [
      "/home/thomas/Documents/Tesis/StudentVisorBackend/server_pyflask/pyflaskvirtualenv/lib/python3.10/site-packages/IPython/core/magics/osm.py:417: UserWarning: using dhist requires you to install the `pickleshare` library.\n",
      "  self.shell.db['dhist'] = compress_dhist(dhist)[-100:]\n"
     ]
    }
   ],
   "source": [
    "%cd .."
   ]
  },
  {
   "cell_type": "code",
   "execution_count": 20,
   "metadata": {},
   "outputs": [
    {
     "name": "stdout",
     "output_type": "stream",
     "text": [
      "'2024-02-05 19-53-50.mkv'   \u001b[0m\u001b[01;34mDesktop\u001b[0m/                    \u001b[01;34mPublic\u001b[0m/\n",
      "'2024-02-05 19-54-26.mkv'   \u001b[01;34mDocuments\u001b[0m/                  \u001b[01;34mR\u001b[0m/\n",
      "'2024-02-05 20-01-52.mkv'   \u001b[01;34mDownloads\u001b[0m/                  \u001b[01;34msnap\u001b[0m/\n",
      "'2024-02-05 20-03-19.mkv'   minikube_latest_amd64.deb   \u001b[01;34mTemplates\u001b[0m/\n",
      "'2024-02-05 20-08-25.mkv'   \u001b[01;34mMusic\u001b[0m/                      \u001b[01;34mVideos\u001b[0m/\n",
      "'2024-02-05 20-12-36.mkv'   \u001b[01;34mopt\u001b[0m/\n",
      " \u001b[01;34mbin\u001b[0m/                       \u001b[01;34mPictures\u001b[0m/\n"
     ]
    }
   ],
   "source": [
    "%ls"
   ]
  },
  {
   "cell_type": "code",
   "execution_count": 28,
   "metadata": {},
   "outputs": [],
   "source": [
    "import pandas as pd"
   ]
  },
  {
   "cell_type": "code",
   "execution_count": 70,
   "metadata": {},
   "outputs": [],
   "source": [
    "insc = pd.read_pickle(\"./test_files/2023_student-inscriptions_2cadb2f5-4d68-409f-86ae-6adcdd087aeb.pickle\")\n",
    "belg = pd.read_pickle(\"./test_files/2023_student-scholarships-belgrano_e412fef8-8dd9-4d29-9b81-c016f0eed8f1.pickle\")\n",
    "prog = pd.read_pickle(\"./test_files/2023_student-scholarships-progresar_0aa0b96a-4188-41cb-8e5a-0f059aa0a485.pickle\")"
   ]
  },
  {
   "cell_type": "code",
   "execution_count": 71,
   "metadata": {},
   "outputs": [],
   "source": [
    "insc_unique_offers = set(insc['offer'].unique())\n",
    "belg_unique_offers = set(belg['offer'].unique())\n",
    "prog_unique_offers = set(prog['offer'].unique())"
   ]
  },
  {
   "cell_type": "code",
   "execution_count": 65,
   "metadata": {},
   "outputs": [
    {
     "data": {
      "text/plain": [
       "45"
      ]
     },
     "execution_count": 65,
     "metadata": {},
     "output_type": "execute_result"
    }
   ],
   "source": [
    "len(insc_unique_offers.difference(belg_unique_offers))"
   ]
  },
  {
   "cell_type": "code",
   "execution_count": 66,
   "metadata": {},
   "outputs": [
    {
     "data": {
      "text/plain": [
       "set()"
      ]
     },
     "execution_count": 66,
     "metadata": {},
     "output_type": "execute_result"
    }
   ],
   "source": [
    "belg_unique_offers.difference(insc_unique_offers)"
   ]
  },
  {
   "cell_type": "code",
   "execution_count": 76,
   "metadata": {},
   "outputs": [
    {
     "name": "stdout",
     "output_type": "stream",
     "text": [
      "65\n",
      "20\n",
      "55\n"
     ]
    }
   ],
   "source": [
    "print(len(insc_unique_offers))\n",
    "print(len(belg_unique_offers))\n",
    "print(len(prog_unique_offers))"
   ]
  },
  {
   "cell_type": "code",
   "execution_count": 69,
   "metadata": {},
   "outputs": [
    {
     "data": {
      "text/plain": [
       "{'ingenieria agronomica',\n",
       " 'ingenieria civil',\n",
       " 'ingenieria de sistemas',\n",
       " 'ingenieria electromecanica',\n",
       " 'ingenieria en agrimensura',\n",
       " 'ingenieria industrial',\n",
       " 'ingenieria quimica',\n",
       " 'licenciatura en administracion agraria',\n",
       " 'licenciatura en ciencias fisicas',\n",
       " 'licenciatura en ciencias matematicas',\n",
       " 'licenciatura en geografia',\n",
       " 'licenciatura en gestion ambiental',\n",
       " 'licenciatura en logistica integral',\n",
       " 'licenciatura en tecnologia ambiental',\n",
       " 'licenciatura en tecnologia de los alimentos',\n",
       " 'medicina veterinaria',\n",
       " 'profesorado de matematica',\n",
       " 'profesorado en ciencias biologicas',\n",
       " 'tecnicatura universitaria en desarrollo de aplicaciones informaticas',\n",
       " 'tecnicatura universitaria en programacion y administracion de redes'}"
      ]
     },
     "execution_count": 69,
     "metadata": {},
     "output_type": "execute_result"
    }
   ],
   "source": [
    "insc_unique_offers.intersection(belg_unique_offers)"
   ]
  },
  {
   "cell_type": "code",
   "execution_count": 84,
   "metadata": {},
   "outputs": [
    {
     "data": {
      "text/plain": [
       "{'analista programador universitario',\n",
       " 'bachiller universitario en derecho',\n",
       " 'cbc - ingenieria',\n",
       " 'guia universitario en turismo',\n",
       " 'tecnico en ambiente',\n",
       " 'tecnico universitario en circuitos turisticos'}"
      ]
     },
     "execution_count": 84,
     "metadata": {},
     "output_type": "execute_result"
    }
   ],
   "source": [
    "prog_unique_offers.difference(insc_unique_offers) \n",
    "#These are offers in progresar that do not translate to anything in inscriptions.\n",
    "#left them like that because I dont know what would be their translation."
   ]
  },
  {
   "cell_type": "code",
   "execution_count": 83,
   "metadata": {},
   "outputs": [
    {
     "data": {
      "text/plain": [
       "['licenciatura en tecnologia ambiental',\n",
       " 'profesorado en fisica y quimica',\n",
       " 'profesorado en quimica',\n",
       " 'licenciatura en ciencias de la educacion',\n",
       " 'turismo',\n",
       " 'profesorado en informatica',\n",
       " 'licenciatura en ensenanza de las ciencias naturales',\n",
       " 'medicina',\n",
       " 'profesorado en ciencias de la educacion',\n",
       " 'licenciatura en comunicacion social',\n",
       " 'profesor de teatro',\n",
       " 'licenciatura en administracion',\n",
       " 'tecnicatura en gestion universitaria',\n",
       " 'licenciatura en antropologia',\n",
       " 'licenciatura en historia',\n",
       " 'licenciatura en gestion universitaria',\n",
       " 'licenciatura en relaciones laborales',\n",
       " 'profesorado de antropologia',\n",
       " 'licenciatura en enfermeria',\n",
       " 'licenciatura en educacion inicial',\n",
       " 'licenciatura en trabajo social',\n",
       " 'ingenieria en agrimensura',\n",
       " 'licenciatura en administracion agraria',\n",
       " 'licenciatura en ciencias fisicas',\n",
       " 'medicina veterinaria',\n",
       " 'contador publico',\n",
       " 'licenciatura en relaciones internacionales',\n",
       " 'periodismo',\n",
       " 'tecnicatura universitaria en administracion de redes informaticas',\n",
       " 'tecnicatura en gestion publica',\n",
       " 'licenciatura en geografia',\n",
       " 'licenciatura en tecnologia de los alimentos',\n",
       " 'profesorado en ciencias biologicas',\n",
       " 'profesorado de matematica',\n",
       " 'licenciatura en gestion tecnologica',\n",
       " 'tecnicatura en gestion juridica con orientacion en gobierno local',\n",
       " 'licenciatura en diagnostico y gestion ambiental',\n",
       " 'ingenieria de sistemas',\n",
       " 'realizacion integral en artes audiovisuales',\n",
       " 'ingenieria civil',\n",
       " 'ingenieria industrial',\n",
       " 'licenciatura en logistica integral',\n",
       " 'ingenieria agronomica',\n",
       " 'tecnicatura universitaria en desarrollo de aplicaciones informaticas',\n",
       " 'licenciatura en psicopedagogia',\n",
       " 'licenciatura en economia empresarial',\n",
       " 'ingenieria quimica',\n",
       " 'profesorado en historia',\n",
       " 'licenciatura en educacion matematica',\n",
       " 'profesorado en geografia',\n",
       " 'licenciatura en ciencias matematicas',\n",
       " 'licenciado en teatro',\n",
       " 'licenciatura en gestion ambiental',\n",
       " 'licenciatura en turismo',\n",
       " 'tecnico universitario en electromedicina',\n",
       " 'profesorado de fisica',\n",
       " 'tecnico universitario en recursos hidricos',\n",
       " 'profesorado en comunicacion social',\n",
       " 'auditor nacional de industrias alimentarias',\n",
       " 'abogacia',\n",
       " 'tecnicatura en sistemas de informacion geografica',\n",
       " 'ingenieria en seguridad e higiene en el trabajo',\n",
       " 'profesorado en educacion inicial',\n",
       " 'tecnicatura universitaria en programacion y administracion de redes',\n",
       " 'ingenieria electromecanica']"
      ]
     },
     "execution_count": 83,
     "metadata": {},
     "output_type": "execute_result"
    }
   ],
   "source": [
    "list(insc_unique_offers)"
   ]
  }
 ],
 "metadata": {
  "kernelspec": {
   "display_name": "pyflaskvirtualenv",
   "language": "python",
   "name": "python3"
  },
  "language_info": {
   "codemirror_mode": {
    "name": "ipython",
    "version": 3
   },
   "file_extension": ".py",
   "mimetype": "text/x-python",
   "name": "python",
   "nbconvert_exporter": "python",
   "pygments_lexer": "ipython3",
   "version": "3.10.12"
  }
 },
 "nbformat": 4,
 "nbformat_minor": 2
}
